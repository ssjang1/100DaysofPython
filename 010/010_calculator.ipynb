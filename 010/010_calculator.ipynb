{
 "cells": [
  {
   "cell_type": "code",
   "execution_count": 3,
   "metadata": {},
   "outputs": [
    {
     "data": {
      "text/plain": [
       "3"
      ]
     },
     "execution_count": 3,
     "metadata": {},
     "output_type": "execute_result"
    }
   ],
   "source": [
    "# 월별 일수에 대한 함수 만들기 \n",
    "# 코딩 테스트에서 본 내용이 꽤 있다. 코딩 테스트를 꾸준히 진행해보자고 \n",
    " \n",
    "# 독 스트링/ 주석의 방법인듯\n",
    "def my_function(arg1, arg2):\n",
    "    \"\"\"\n",
    "    이 함수는 두 개의 인수를 받아서 더한 값을 반환합니다.\n",
    "\n",
    "    Parameters:\n",
    "    arg1 (int): 더할 숫자 1\n",
    "    arg2 (int): 더할 숫자 2\n",
    "\n",
    "    Returns:\n",
    "    int: 두 숫자를 더한 결과값\n",
    "    \"\"\"\n",
    "    return arg1 + arg2\n",
    "\n",
    "my_function(1,2)\n",
    "\n",
    "# 함수와 dictionary를 이용해서 계산기를 만드는 프로젝트"
   ]
  }
 ],
 "metadata": {
  "kernelspec": {
   "display_name": "Python 3",
   "language": "python",
   "name": "python3"
  },
  "language_info": {
   "codemirror_mode": {
    "name": "ipython",
    "version": 3
   },
   "file_extension": ".py",
   "mimetype": "text/x-python",
   "name": "python",
   "nbconvert_exporter": "python",
   "pygments_lexer": "ipython3",
   "version": "3.10.4"
  }
 },
 "nbformat": 4,
 "nbformat_minor": 2
}
