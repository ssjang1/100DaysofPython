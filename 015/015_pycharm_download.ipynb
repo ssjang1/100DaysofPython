{
 "cells": [
  {
   "cell_type": "code",
   "execution_count": null,
   "metadata": {},
   "outputs": [],
   "source": [
    "# pycharm을 다운로드 받아서 사용한다.\n",
    "# visual studio나 pycharm이나 상관없겠지?\n",
    "\n",
    "# 공부만 하는 공간을 만들면 미루는 습관을 극복가능"
   ]
  }
 ],
 "metadata": {
  "language_info": {
   "name": "python"
  }
 },
 "nbformat": 4,
 "nbformat_minor": 2
}
