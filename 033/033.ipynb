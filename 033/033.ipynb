{
 "cells": [
  {
   "cell_type": "markdown",
   "metadata": {},
   "source": [
    "# API (application programing interface)\n",
    "\n",
    "- 프로그램과 외부 시스템 사이의 장벽 \n",
    "- api의 구조에 맞춰 정보를 Request/Response\n",
    "\n",
    "# Endpoint\n",
    "# http://api.open-notify.org/iss-now.json 국제우주정거장 현재 위치 엔드포인트"
   ]
  }
 ],
 "metadata": {
  "language_info": {
   "name": "python"
  }
 },
 "nbformat": 4,
 "nbformat_minor": 2
}
