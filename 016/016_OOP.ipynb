{
 "cells": [
  {
   "cell_type": "code",
   "execution_count": null,
   "metadata": {},
   "outputs": [],
   "source": [
    "# 객체지향 프로그래밍(OOP)\n",
    "\n",
    "# 절차지향 프로그래밍은 초기 프로그래밍 방식\n",
    "# 자율주행 관련 프로그래밍을 할 때 각 기능별로 하위부서가 동시에 개발도 가능하고\n",
    "# 만들어진 모듈은 후에 드론 프로그래밍 등을 할 때 카메라모듈 재사용 등 가능함  모듈 재사용이 용이함\n",
    "# ---\n",
    "# OOP 사용법\n",
    "# 클래스와 객체\n",
    "# car = CarBlueprint()"
   ]
  }
 ],
 "metadata": {
  "language_info": {
   "name": "python"
  }
 },
 "nbformat": 4,
 "nbformat_minor": 2
}
