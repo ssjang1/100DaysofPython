{
 "cells": [
  {
   "cell_type": "code",
   "execution_count": 2,
   "metadata": {},
   "outputs": [
    {
     "name": "stdout",
     "output_type": "stream",
     "text": [
      "5 5 0\n"
     ]
    }
   ],
   "source": [
    "def test(a,b=3,c=5):\n",
    "    print(a,b,c)\n",
    "    \n",
    "test(5,5,0)"
   ]
  },
  {
   "cell_type": "code",
   "execution_count": 6,
   "metadata": {},
   "outputs": [
    {
     "data": {
      "text/plain": [
       "22"
      ]
     },
     "execution_count": 6,
     "metadata": {},
     "output_type": "execute_result"
    }
   ],
   "source": [
    "def add(*args):\n",
    "    sum = 0\n",
    "    for n in args:\n",
    "        sum += n\n",
    "    return sum\n",
    "        \n",
    "add(2,3,7,10)"
   ]
  },
  {
   "cell_type": "code",
   "execution_count": 8,
   "metadata": {},
   "outputs": [
    {
     "name": "stdout",
     "output_type": "stream",
     "text": [
      "{'a': 3, 'b': 4}\n",
      "a\n",
      "3\n",
      "b\n",
      "4\n"
     ]
    }
   ],
   "source": [
    "def calculate(**kwargs):\n",
    "    print(kwargs)\n",
    "    for key, value in kwargs.items():\n",
    "        print(key)\n",
    "        print(value)\n",
    "\n",
    "calculate(a=3,b=4)"
   ]
  },
  {
   "cell_type": "code",
   "execution_count": 14,
   "metadata": {},
   "outputs": [
    {
     "name": "stdout",
     "output_type": "stream",
     "text": [
      "Sky\n"
     ]
    }
   ],
   "source": [
    "class Car:\n",
    "    def __init__(self, **kw):\n",
    "        self.make = kw['make']\n",
    "        self.model = kw.get('model')\n",
    "        self.colour = kw.get('colour')\n",
    "        self.seats = kw.get('seats')\n",
    "        \n",
    "        \n",
    "my_car = Car(make='Nissan', model='Sky')\n",
    "print(my_car.model)"
   ]
  }
 ],
 "metadata": {
  "kernelspec": {
   "display_name": "Python 3",
   "language": "python",
   "name": "python3"
  },
  "language_info": {
   "codemirror_mode": {
    "name": "ipython",
    "version": 3
   },
   "file_extension": ".py",
   "mimetype": "text/x-python",
   "name": "python",
   "nbconvert_exporter": "python",
   "pygments_lexer": "ipython3",
   "version": "3.10.4"
  }
 },
 "nbformat": 4,
 "nbformat_minor": 2
}
