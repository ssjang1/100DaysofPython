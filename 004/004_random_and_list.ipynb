{
 "cells": [
  {
   "cell_type": "code",
   "execution_count": 6,
   "metadata": {},
   "outputs": [
    {
     "data": {
      "text/plain": [
       "8"
      ]
     },
     "execution_count": 6,
     "metadata": {},
     "output_type": "execute_result"
    }
   ],
   "source": [
    "import random\n",
    "random.randint(1,10)"
   ]
  },
  {
   "cell_type": "code",
   "execution_count": 28,
   "metadata": {},
   "outputs": [
    {
     "name": "stdout",
     "output_type": "stream",
     "text": [
      "오늘 살 사람은? 양메론!!!\n"
     ]
    }
   ],
   "source": [
    "# 회사커피내기\n",
    "import random\n",
    "people = ['대표님','실장님','마린보이','상남자','양메론','장브로']\n",
    "people_length = len(people)\n",
    "print(f\"오늘 살 사람은? {people[random.randint(0,people_length-1)]}!!!\")\n"
   ]
  },
  {
   "cell_type": "code",
   "execution_count": 29,
   "metadata": {},
   "outputs": [],
   "source": [
    "# 가위바위보 만들기\n",
    "# 학원에서 해봤기에 패스 모르는 것 위주로 갑시다...\n",
    "# 프로그래밍은 헬스와 같다는 마무리 말을 하는데 확실히 꾸준함이 중요한 것 같다."
   ]
  }
 ],
 "metadata": {
  "kernelspec": {
   "display_name": "Python 3",
   "language": "python",
   "name": "python3"
  },
  "language_info": {
   "codemirror_mode": {
    "name": "ipython",
    "version": 3
   },
   "file_extension": ".py",
   "mimetype": "text/x-python",
   "name": "python",
   "nbconvert_exporter": "python",
   "pygments_lexer": "ipython3",
   "version": "3.10.4"
  }
 },
 "nbformat": 4,
 "nbformat_minor": 2
}
