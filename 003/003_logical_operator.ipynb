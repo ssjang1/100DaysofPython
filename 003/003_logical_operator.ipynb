{
 "cells": [
  {
   "cell_type": "code",
   "execution_count": 2,
   "metadata": {},
   "outputs": [],
   "source": [
    "# if else\n",
    "# 윤년\n",
    "# logical operators : and or \n",
    "\n",
    "# if else 이용해서 선택지 주는 게임 만들기\n",
    "# 몰랐던 내용만 취하고 나머지는 빠르게 넘어가는 중"
   ]
  }
 ],
 "metadata": {
  "kernelspec": {
   "display_name": "Python 3",
   "language": "python",
   "name": "python3"
  },
  "language_info": {
   "codemirror_mode": {
    "name": "ipython",
    "version": 3
   },
   "file_extension": ".py",
   "mimetype": "text/x-python",
   "name": "python",
   "nbconvert_exporter": "python",
   "pygments_lexer": "ipython3",
   "version": "3.10.4"
  }
 },
 "nbformat": 4,
 "nbformat_minor": 2
}
