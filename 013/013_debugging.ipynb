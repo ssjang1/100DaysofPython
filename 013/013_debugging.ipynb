{
 "cells": [
  {
   "cell_type": "code",
   "execution_count": null,
   "metadata": {},
   "outputs": [],
   "source": [
    "# debugger라는 프로그램도 있다.\n",
    "# stack overflow라는 사이트에서 디버그 관련 의견을 나눌 수 있다.\n",
    "\n",
    "# 디버그 관련 팁들 중에 아예 처음 보는 내용만 적어본거"
   ]
  }
 ],
 "metadata": {
  "language_info": {
   "name": "python"
  }
 },
 "nbformat": 4,
 "nbformat_minor": 2
}
