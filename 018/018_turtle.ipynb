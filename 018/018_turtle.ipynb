{
 "cells": [
  {
   "cell_type": "code",
   "execution_count": null,
   "metadata": {},
   "outputs": [],
   "source": [
    "from turtle import Turtle, Screen\n",
    "\n",
    "tim = Turtle()\n",
    "tim.forward(100)\n",
    "tim.left(90)\n",
    "tim.forward(100)\n",
    "tim.left(90)\n",
    "tim.forward(100)\n",
    "tim.left(90)\n",
    "tim.forward(100)\n",
    "tim.left(90)\n",
    "\n",
    "screen = Screen()\n",
    "screen. exitonclick()\n",
    "\n",
    "# turtle을 이용해서 다양한 작업을 하는데 \n",
    "# 나에게 급한 부분이 아닌거 같아서 스킵 내용만 훑어봤다."
   ]
  }
 ],
 "metadata": {
  "kernelspec": {
   "display_name": "Python 3",
   "language": "python",
   "name": "python3"
  },
  "language_info": {
   "codemirror_mode": {
    "name": "ipython",
    "version": 3
   },
   "file_extension": ".py",
   "mimetype": "text/x-python",
   "name": "python",
   "nbconvert_exporter": "python",
   "pygments_lexer": "ipython3",
   "version": "3.10.4"
  }
 },
 "nbformat": 4,
 "nbformat_minor": 2
}
