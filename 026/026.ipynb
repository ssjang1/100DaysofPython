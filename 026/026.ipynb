{
 "cells": [
  {
   "cell_type": "code",
   "execution_count": 13,
   "metadata": {},
   "outputs": [
    {
     "data": {
      "text/plain": [
       "[2, 3, 4]"
      ]
     },
     "execution_count": 13,
     "metadata": {},
     "output_type": "execute_result"
    }
   ],
   "source": [
    "# list comprehension\n",
    "# 파이썬에만 있는 기능\n",
    "# 이전 리스트에서 새로운 리스트를 만드는 기능\n",
    "\n",
    "# 리스트 컴프리헨션 써보긴했는데 좀 체계없이 막 배워서 써봤음\n",
    "# 이번기회에 제대로 익혀보자 \n",
    "\n",
    "numbers = [1,2,3]\n",
    "\n",
    "new_list = [item+1 for item in numbers]\n",
    "new_list"
   ]
  },
  {
   "cell_type": "code",
   "execution_count": 5,
   "metadata": {},
   "outputs": [
    {
     "data": {
      "text/plain": [
       "['A', 'n', 'g', 'e', 'l', 'a']"
      ]
     },
     "execution_count": 5,
     "metadata": {},
     "output_type": "execute_result"
    }
   ],
   "source": [
    "name = \"Angela\"\n",
    "new_list = [letter for letter in name]\n",
    "new_list"
   ]
  },
  {
   "cell_type": "code",
   "execution_count": 10,
   "metadata": {},
   "outputs": [
    {
     "data": {
      "text/plain": [
       "[6, 8]"
      ]
     },
     "execution_count": 10,
     "metadata": {},
     "output_type": "execute_result"
    }
   ],
   "source": [
    "[(a+1)*2 for a in range(4) if a >1]"
   ]
  },
  {
   "cell_type": "code",
   "execution_count": 11,
   "metadata": {},
   "outputs": [
    {
     "data": {
      "text/plain": [
       "['CAROLINE', 'ELANOR', 'FRADDLE']"
      ]
     },
     "execution_count": 11,
     "metadata": {},
     "output_type": "execute_result"
    }
   ],
   "source": [
    "names = ['Alex','Beth','Caroline','Dave','Elanor','Fraddle']\n",
    "[name.upper() for name in names if len(name)>5]"
   ]
  },
  {
   "cell_type": "code",
   "execution_count": 14,
   "metadata": {},
   "outputs": [
    {
     "data": {
      "text/plain": [
       "[0, 1, 4, 9, 16, 25, 36, 49, 64, 81, 100]"
      ]
     },
     "execution_count": 14,
     "metadata": {},
     "output_type": "execute_result"
    }
   ],
   "source": [
    "[i**2 for i in range(11)]"
   ]
  },
  {
   "cell_type": "code",
   "execution_count": 17,
   "metadata": {},
   "outputs": [
    {
     "data": {
      "text/plain": [
       "[0, 2, 4, 6, 8, 10]"
      ]
     },
     "execution_count": 17,
     "metadata": {},
     "output_type": "execute_result"
    }
   ],
   "source": [
    "zeroten = list(range(11))\n",
    "\n",
    "[i for i in zeroten if i%2==0]"
   ]
  },
  {
   "cell_type": "code",
   "execution_count": 2,
   "metadata": {},
   "outputs": [
    {
     "data": {
      "text/plain": [
       "{'Alex': 60,\n",
       " 'Beth': 87,\n",
       " 'Caroline': 84,\n",
       " 'Dave': 6,\n",
       " 'Elanor': 70,\n",
       " 'Fraddle': 73}"
      ]
     },
     "execution_count": 2,
     "metadata": {},
     "output_type": "execute_result"
    }
   ],
   "source": [
    "# Dictionary Comprehension\n",
    "\n",
    "# new_dict = {new_key:new_value for (key,value) in dick.items()}\n",
    "import random\n",
    "names = ['Alex','Beth','Caroline','Dave','Elanor','Fraddle']\n",
    "\n",
    "students_scores = {student:random.randint(1,100) for student in names}\n",
    "students_scores"
   ]
  },
  {
   "cell_type": "code",
   "execution_count": 11,
   "metadata": {},
   "outputs": [
    {
     "data": {
      "text/plain": [
       "dict_items([('Alex', 60), ('Beth', 87), ('Caroline', 84), ('Dave', 6), ('Elanor', 70), ('Fraddle', 73)])"
      ]
     },
     "execution_count": 11,
     "metadata": {},
     "output_type": "execute_result"
    }
   ],
   "source": [
    "students_scores.items()"
   ]
  },
  {
   "cell_type": "code",
   "execution_count": 20,
   "metadata": {},
   "outputs": [
    {
     "data": {
      "text/plain": [
       "{'Alex': 'Fail',\n",
       " 'Beth': 'Pass',\n",
       " 'Caroline': 'Pass',\n",
       " 'Dave': 'Fail',\n",
       " 'Elanor': 'Pass',\n",
       " 'Fraddle': 'Pass'}"
      ]
     },
     "execution_count": 20,
     "metadata": {},
     "output_type": "execute_result"
    }
   ],
   "source": [
    "passed_students = { student:'Pass' if score>60 else 'Fail' for (student, score) in students_scores.items()}\n",
    "passed_students"
   ]
  },
  {
   "cell_type": "code",
   "execution_count": 30,
   "metadata": {},
   "outputs": [
    {
     "name": "stdout",
     "output_type": "stream",
     "text": [
      "['Angela', 'James', 'Lily']\n",
      "[56, 76, 98]\n",
      "------\n",
      "  student  score\n",
      "0  Angela     56\n",
      "1   James     76\n",
      "2    Lily     98\n",
      "------\n",
      "student    Angela\n",
      "score          56\n",
      "Name: 0, dtype: object\n",
      "student    James\n",
      "score         76\n",
      "Name: 1, dtype: object\n",
      "student    Lily\n",
      "score        98\n",
      "Name: 2, dtype: object\n"
     ]
    }
   ],
   "source": [
    "student_dict = {\n",
    "    'student' : ['Angela', 'James', 'Lily'],\n",
    "    'score' : [56, 76, 98]\n",
    "}\n",
    "\n",
    "for (key, value) in student_dict.items():\n",
    "    print(value)\n",
    "print('------')    \n",
    "import pandas as pd\n",
    "student_df = pd.DataFrame(student_dict)\n",
    "print(student_df)\n",
    "print('------')\n",
    "for (index, row) in student_df.iterrows():\n",
    "    print(row)"
   ]
  },
  {
   "cell_type": "code",
   "execution_count": 36,
   "metadata": {},
   "outputs": [
    {
     "data": {
      "text/plain": [
       "['Alfa', 'Bravo', 'Charlie', 'Delta', 'Echo']"
      ]
     },
     "execution_count": 36,
     "metadata": {},
     "output_type": "execute_result"
    }
   ],
   "source": [
    "student_dict = {\n",
    "    \"student\": [\"Angela\", \"James\", \"Lily\"], \n",
    "    \"score\": [56, 76, 98]\n",
    "}\n",
    "\n",
    "#Looping through dictionaries:\n",
    "for (key, value) in student_dict.items():\n",
    "    #Access key and value\n",
    "    pass\n",
    "\n",
    "import pandas\n",
    "student_data_frame = pandas.DataFrame(student_dict)\n",
    "\n",
    "#Loop through rows of a data frame\n",
    "for (index, row) in student_data_frame.iterrows():\n",
    "    #Access index and row\n",
    "    #Access row.student or row.score\n",
    "    pass\n",
    "\n",
    "# Keyword Method with iterrows()\n",
    "# {new_key:new_value for (index, row) in df.iterrows()}\n",
    "\n",
    "#TODO 1. Create a dictionary in this format:\n",
    "{\"A\": \"Alfa\", \"B\": \"Bravo\"}\n",
    "alphabet = pandas.read_csv('./NATO-alphabet-start/nato_phonetic_alphabet.csv')\n",
    "al_dict = {}\n",
    "for (index, row) in alphabet.iterrows():\n",
    "    al_dict[row.letter] = row.code\n",
    "    \n",
    "\n",
    "#TODO 2. Create a list of the phonetic code words from a word that the user inputs.\n",
    "\n",
    "word = input('Enter a word: ').upper()\n",
    "[al_dict[letter] for letter in word]"
   ]
  }
 ],
 "metadata": {
  "kernelspec": {
   "display_name": "Python 3",
   "language": "python",
   "name": "python3"
  },
  "language_info": {
   "codemirror_mode": {
    "name": "ipython",
    "version": 3
   },
   "file_extension": ".py",
   "mimetype": "text/x-python",
   "name": "python",
   "nbconvert_exporter": "python",
   "pygments_lexer": "ipython3",
   "version": "3.10.4"
  }
 },
 "nbformat": 4,
 "nbformat_minor": 2
}
