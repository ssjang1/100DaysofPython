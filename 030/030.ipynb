{
 "cells": [
  {
   "cell_type": "code",
   "execution_count": null,
   "metadata": {},
   "outputs": [],
   "source": [
    "# FileNotFoundError 없는 파일\n",
    "# with open('a_file.txt') as file:\n",
    "#     file.read()\n",
    "\n",
    "# KeyError\n",
    "# a_dictionary = {'key': 'value'}    \n",
    "# value=a_dictionary['hi']\n",
    "\n",
    "# IndexError\n",
    "# a_list = ['a','b','c']\n",
    "# a_list[3]\n",
    "\n",
    "# TypeError\n",
    "# text='abc'\n",
    "# print(text + 5)"
   ]
  },
  {
   "cell_type": "markdown",
   "metadata": {},
   "source": [
    "try : 실행할코드\n",
    "except : 오류나면 실행할 코드\n",
    "else : 오류가 안나면 실행할 코드\n",
    "finally : 어떤일이 일어나더라도 실행할 코드"
   ]
  },
  {
   "cell_type": "code",
   "execution_count": 20,
   "metadata": {},
   "outputs": [
    {
     "name": "stdout",
     "output_type": "stream",
     "text": [
      "value\n",
      "Something\n",
      "file closed\n"
     ]
    }
   ],
   "source": [
    "# FileNotFoundError 없는 파일\n",
    "try:\n",
    "    file = open('a_file.txt')\n",
    "    a_dictionary = {'key':'value'}\n",
    "    print(a_dictionary['key'])\n",
    "except FileNotFoundError:\n",
    "    # print('There was an error')\n",
    "    file = open('a_file.txt','w')\n",
    "    file.write('Something')\n",
    "except KeyError as error_message:\n",
    "    print(f'{error_message}')\n",
    "else: \n",
    "    content = file.read()\n",
    "    print(content)\n",
    "finally:\n",
    "    # raise TypeError('this is an error that i made')\n",
    "    file.close()\n",
    "    print('file closed')"
   ]
  },
  {
   "cell_type": "markdown",
   "metadata": {},
   "source": [
    "# 나만의 예외생성 raise"
   ]
  },
  {
   "cell_type": "code",
   "execution_count": 22,
   "metadata": {},
   "outputs": [
    {
     "name": "stdout",
     "output_type": "stream",
     "text": [
      "5.5096418732782375\n"
     ]
    },
    {
     "ename": "ValueError",
     "evalue": "really human height?",
     "output_type": "error",
     "traceback": [
      "\u001b[1;31m---------------------------------------------------------------------------\u001b[0m",
      "\u001b[1;31mValueError\u001b[0m                                Traceback (most recent call last)",
      "Cell \u001b[1;32mIn[22], line 8\u001b[0m\n\u001b[0;32m      5\u001b[0m \u001b[38;5;28mprint\u001b[39m(bmi)\n\u001b[0;32m      7\u001b[0m \u001b[38;5;28;01mif\u001b[39;00m height \u001b[38;5;241m>\u001b[39m\u001b[38;5;241m3\u001b[39m:\n\u001b[1;32m----> 8\u001b[0m     \u001b[38;5;28;01mraise\u001b[39;00m \u001b[38;5;167;01mValueError\u001b[39;00m(\u001b[38;5;124m'\u001b[39m\u001b[38;5;124mreally human height?\u001b[39m\u001b[38;5;124m'\u001b[39m)\n",
      "\u001b[1;31mValueError\u001b[0m: really human height?"
     ]
    }
   ],
   "source": [
    "height = float(input('height: '))\n",
    "weight = float(input('weight: '))\n",
    "\n",
    "bmi = weight/height **2\n",
    "print(bmi)\n",
    "\n",
    "if height >3:\n",
    "    raise ValueError('really human height?')"
   ]
  },
  {
   "cell_type": "code",
   "execution_count": 28,
   "metadata": {},
   "outputs": [
    {
     "name": "stdout",
     "output_type": "stream",
     "text": [
      "no pie\n"
     ]
    }
   ],
   "source": [
    "fruits = ['apple','orange','banana']\n",
    "\n",
    "def make_pie(index):\n",
    "    try:\n",
    "        fruit = fruits[index]\n",
    "    except IndexError:\n",
    "        print('no pie')\n",
    "    else:\n",
    "        print(fruit +'pie')\n",
    "    \n",
    "make_pie(3)"
   ]
  },
  {
   "cell_type": "markdown",
   "metadata": {},
   "source": [
    "# 파이썬에서 JSON 다루기\n",
    "JSON = javascript object notation\n",
    "\n",
    "- Write : json.dump()\n",
    "- Read : json.load()\n",
    "- Update : json.update()"
   ]
  },
  {
   "cell_type": "code",
   "execution_count": null,
   "metadata": {},
   "outputs": [],
   "source": []
  }
 ],
 "metadata": {
  "kernelspec": {
   "display_name": "Python 3",
   "language": "python",
   "name": "python3"
  },
  "language_info": {
   "codemirror_mode": {
    "name": "ipython",
    "version": 3
   },
   "file_extension": ".py",
   "mimetype": "text/x-python",
   "name": "python",
   "nbconvert_exporter": "python",
   "pygments_lexer": "ipython3",
   "version": "3.10.4"
  }
 },
 "nbformat": 4,
 "nbformat_minor": 2
}
